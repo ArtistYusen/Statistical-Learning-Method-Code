{
 "cells": [
  {
   "cell_type": "markdown",
   "metadata": {},
   "source": [
    "# Chapter 03 - k-Nearest Neighbor"
   ]
  },
  {
   "cell_type": "code",
   "execution_count": 1,
   "metadata": {},
   "outputs": [],
   "source": [
    "import numpy as np\n",
    "import seaborn as sns\n",
    "import pandas as pd\n",
    "from sklearn.datasets import load_iris\n",
    "sns.set(rc={\"figure.dpi\": 300})\n"
   ]
  },
  {
   "cell_type": "markdown",
   "metadata": {},
   "source": [
    "## Load Iris Data"
   ]
  },
  {
   "cell_type": "code",
   "execution_count": 3,
   "metadata": {},
   "outputs": [],
   "source": [
    "iris = load_iris()\n",
    "df = pd.DataFrame(iris.data, columns=iris.feature_names)\n",
    "df['label'] = iris.target\n",
    "df.columns = ['sepal length', 'sepal width',\n",
    "              'petal length', 'petal width', 'label']\n"
   ]
  },
  {
   "cell_type": "code",
   "execution_count": 21,
   "metadata": {},
   "outputs": [],
   "source": [
    "data = np.array(df)\n",
    "X, y = data[:, :-1], np.int64(data[:, -1])\n",
    "index = np.random.permutation(len(X))\n",
    "X_train, y_train = X[index[:int(0.7*len(index))]], y[index[:int(0.7*len(index))]]\n",
    "X_test, y_test = X[index[int(0.7*len(index)):]], y[index[int(0.7*len(index)):]]\n"
   ]
  },
  {
   "cell_type": "markdown",
   "metadata": {},
   "source": [
    "## k-Nearest Neighbor Algorithm\n",
    "\n",
    "![3.1-1](../images/algorithm/3.1-1.png)\n",
    "![3.1-2](../images/algorithm/3.1-2.png)"
   ]
  },
  {
   "cell_type": "code",
   "execution_count": 5,
   "metadata": {},
   "outputs": [],
   "source": [
    "class kNN(object):\n",
    "    def __init__(self, k=3):\n",
    "        self.k = k\n",
    "\n",
    "    def fit(self, X, y):\n",
    "        self.X = X\n",
    "        self.y = y\n",
    "\n",
    "    def predict(self, X):\n",
    "        y_pred = np.zeros(len(X))\n",
    "        for i, x in enumerate(X):\n",
    "            distances = np.linalg.norm(self.X - x, axis=1)\n",
    "            nearest_k = np.argsort(distances)[:self.k]\n",
    "            y_pred[i] = np.bincount(self.y[nearest_k]).argmax()\n",
    "        return y_pred\n",
    "\n",
    "    def score(self, X, y):\n",
    "        return np.mean(self.predict(X) == y)\n"
   ]
  },
  {
   "cell_type": "markdown",
   "metadata": {},
   "source": [
    "### Predict"
   ]
  },
  {
   "cell_type": "code",
   "execution_count": 22,
   "metadata": {},
   "outputs": [
    {
     "name": "stdout",
     "output_type": "stream",
     "text": [
      "k = 1, score = 0.9777777777777777\n",
      "k = 3, score = 0.9777777777777777\n",
      "k = 5, score = 0.9555555555555556\n",
      "k = 10, score = 1.0\n",
      "k = 20, score = 0.9555555555555556\n"
     ]
    }
   ],
   "source": [
    "for i in [1,3,5,10,20]:\n",
    "  Model = kNN(k=i)\n",
    "  Model.fit(X_train, y_train)\n",
    "  print('k = {}, score = {}'.format(Model.k, Model.score(X_test, y_test)))\n"
   ]
  },
  {
   "cell_type": "markdown",
   "metadata": {},
   "source": [
    "## kd-Tree"
   ]
  },
  {
   "cell_type": "markdown",
   "metadata": {},
   "source": [
    "### Create Balanced kd-Tree\n",
    "\n",
    "![3.2](../images/algorithm/3.2.png)"
   ]
  },
  {
   "cell_type": "code",
   "execution_count": null,
   "metadata": {},
   "outputs": [],
   "source": [
    "class kdNode(object):\n",
    "    def __init__(self, data, split_dim, depth):\n",
    "        self.data = data\n",
    "        self.features = data[:-1]\n",
    "        self.label = data[-1]\n",
    "        self.split_dim = split_dim   # split axis in the kd tree\n",
    "        self.depth = depth\n",
    "        self.left = None\n",
    "        self.right = None\n",
    "\n",
    "\n",
    "class kdtree(object):\n",
    "    def __init__(self, data, depth=0):\n",
    "        self.root = kdNode(data[0], depth=depth)\n",
    "        self.depth = depth\n",
    "        self.data = data\n",
    "        self.k = len(data[0]) - 1\n",
    "        self.build_tree(self.root)\n",
    "\n",
    "    def build_tree(self, node):\n",
    "        if len(self.data) == 1:\n",
    "            return\n",
    "        split_dim = node.depth % self.k\n",
    "        sorted_data = sorted(self.data, key=lambda x: x[split_dim])\n",
    "        split_index = len(sorted_data) // 2\n",
    "        node.left = kdNode(sorted_data[:split_index], depth=node.depth + 1)\n",
    "        node.right = kdNode(sorted_data[split_index:], depth=node.depth + 1)\n",
    "        self.build_tree(node.left)\n",
    "        self.build_tree(node.right)\n"
   ]
  },
  {
   "cell_type": "markdown",
   "metadata": {},
   "source": [
    "### Nearest Neighbor Search-based on kd-Tree\n",
    "\n",
    "![3.3](../images/algorithm/3.3.png)"
   ]
  },
  {
   "cell_type": "code",
   "execution_count": null,
   "metadata": {},
   "outputs": [],
   "source": [
    "def L(x, y):\n",
    "    \"\"\"\n",
    "    计算两个点的欧式距离\n",
    "    \"\"\"\n",
    "    return np.linalg.norm(x - y)\n",
    "\n",
    "\n",
    "def find_first_current_nearest(tree, x):\n",
    "    \"\"\"\n",
    "    用kd树的k近邻搜索中,找到第一个\"当前最近点\"\n",
    "    \"\"\"\n",
    "\n",
    "\n",
    "def find_k_neighbors(tree, x, k):\n",
    "    \"\"\"\n",
    "    用kd树的k近邻搜索\n",
    "    \"\"\"\n",
    "    current_nearest = find_first_current_nearest(tree, x)\n"
   ]
  },
  {
   "cell_type": "markdown",
   "metadata": {},
   "source": [
    "### Predict"
   ]
  },
  {
   "cell_type": "code",
   "execution_count": null,
   "metadata": {},
   "outputs": [],
   "source": []
  }
 ],
 "metadata": {
  "interpreter": {
   "hash": "8d28ecebd8bf9b92304696f332c58e6842a15d72b9eeaeacd29fe27c9913f515"
  },
  "kernelspec": {
   "display_name": "Python 3.9.7 ('base')",
   "language": "python",
   "name": "python3"
  },
  "language_info": {
   "codemirror_mode": {
    "name": "ipython",
    "version": 3
   },
   "file_extension": ".py",
   "mimetype": "text/x-python",
   "name": "python",
   "nbconvert_exporter": "python",
   "pygments_lexer": "ipython3",
   "version": "3.9.7"
  },
  "orig_nbformat": 4
 },
 "nbformat": 4,
 "nbformat_minor": 2
}
